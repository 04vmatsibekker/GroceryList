{
  "cells": [
    {
      "cell_type": "markdown",
      "metadata": {
        "id": "VcJEJP9TpMHr"
      },
      "source": [
        "<img src=\"https://github.com/mtreinish/qiskit-workshop/blob/master/qiskit-heading.png?raw=1\" alt=\"Drawing\" style=\"width: 300px;\"/>\n",
        "\n",
        "\n",
        "# Get Started with Quantum Computing and Qiskit\n",
        "\n",
        "This workshop is hosted at: https://github.com/mtreinish/qiskit-workshop"
      ]
    },
    {
      "cell_type": "markdown",
      "metadata": {
        "id": "lQPE-QCkpMHu"
      },
      "source": [
        "To get started we'll need to install Qiskit. If you have Python >= 3.5 and Jupyter installed you can run this locally. Or alternatively you can run this in Google Colab (if you have a Google account):\n",
        "https://colab.research.google.com/github/mtreinish/qiskit-workshop/blob/master/Workshop.ipynb\n",
        "\n",
        "Once you have the workshop running if you have not installed Qiskit before (or you are running in colab) you can uncomment and run the following cell to install it:"
      ]
    },
    {
      "cell_type": "code",
      "execution_count": 7,
      "metadata": {
        "id": "397aHx3ppMHv"
      },
      "outputs": [],
      "source": [
        "#!pip install qiskit"
      ]
    },
    {
      "cell_type": "markdown",
      "metadata": {
        "id": "SJMTQISUpMHw"
      },
      "source": [
        "Once we have Qiskit is installed we want to test that it's working properly."
      ]
    },
    {
      "cell_type": "code",
      "execution_count": 6,
      "metadata": {
        "id": "IDsDFbQ6pMHw",
        "outputId": "74869a9e-35d1-40a1-c812-f1dce51a15e8",
        "colab": {
          "base_uri": "https://localhost:8080/",
          "height": 332
        }
      },
      "outputs": [
        {
          "output_type": "error",
          "ename": "ModuleNotFoundError",
          "evalue": "No module named 'qiskit'",
          "traceback": [
            "\u001b[0;31m---------------------------------------------------------------------------\u001b[0m",
            "\u001b[0;31mModuleNotFoundError\u001b[0m                       Traceback (most recent call last)",
            "\u001b[0;32m<ipython-input-6-1eb96b00e4b6>\u001b[0m in \u001b[0;36m<cell line: 0>\u001b[0;34m()\u001b[0m\n\u001b[0;32m----> 1\u001b[0;31m \u001b[0;32mimport\u001b[0m \u001b[0mqiskit\u001b[0m\u001b[0;34m\u001b[0m\u001b[0;34m\u001b[0m\u001b[0m\n\u001b[0m\u001b[1;32m      2\u001b[0m \u001b[0mqiskit\u001b[0m\u001b[0;34m.\u001b[0m\u001b[0m__version__\u001b[0m\u001b[0;34m\u001b[0m\u001b[0;34m\u001b[0m\u001b[0m\n",
            "\u001b[0;31mModuleNotFoundError\u001b[0m: No module named 'qiskit'",
            "",
            "\u001b[0;31m---------------------------------------------------------------------------\u001b[0;32m\nNOTE: If your import is failing due to a missing package, you can\nmanually install dependencies using either !pip or !apt.\n\nTo view examples of installing some common dependencies, click the\n\"Open Examples\" button below.\n\u001b[0;31m---------------------------------------------------------------------------\u001b[0m\n"
          ],
          "errorDetails": {
            "actions": [
              {
                "action": "open_url",
                "actionText": "Open Examples",
                "url": "/notebooks/snippets/importing_libraries.ipynb"
              }
            ]
          }
        }
      ],
      "source": [
        "import qiskit\n",
        "qiskit.__version__"
      ]
    },
    {
      "cell_type": "markdown",
      "metadata": {
        "id": "kAUYlDVHpMHx"
      },
      "source": [
        "## Signup for the Quantum Experience\n",
        "\n",
        "While for the most part we'll use local simulation for this workshop, if you want to run anything on a real quantum device you'll need an account on the Quantum Experience. We'll do this before moving on:\n",
        "\n",
        "1. Visit: https://quantumexperience.ng.bluemix.net/qx/ and signup for an account. You can use a SSO from an IBMid, LinkedIn, Github, Google, or Twitter in addition to creating a new account.\n",
        "\n",
        "![Login Box](https://github.com/mtreinish/qiskit-workshop/blob/master/QX_login.png?raw=1)\n",
        "\n",
        "\n",
        "\n",
        "2. After you're logged into your new account visit: https://quantumexperience.ng.bluemix.net/qx/account/advanced where you'll need to generate an **API Token**. Once you've generated a token you'll want to copy it so we can use Qiskit to store it locally so it can be used for accessing the quantum devices.\n"
      ]
    },
    {
      "cell_type": "code",
      "execution_count": null,
      "metadata": {
        "id": "Kbxi5AhlpMHx"
      },
      "outputs": [],
      "source": [
        "# Enable your account on Qiskit, replace 'My_API_Token' with your newly generated token\n",
        "qiskit.IBMQ.save_account('a10366d53b200b9a844aea874f64489816786d0d55a0f858d3bb608af7035819c0ddd7265053da67a481583ace0efd9658a1f9c92b6f9e5c2058af1686cbd176')\n",
        "qiskit.IBMQ.load_accounts()\n",
        "# After loading credentials we query the backends\n",
        "qiskit.IBMQ.backends()"
      ]
    },
    {
      "cell_type": "code",
      "execution_count": null,
      "metadata": {
        "id": "gB0WUSbLpMHy"
      },
      "outputs": [],
      "source": [
        "from qiskit.tools.jupyter import *"
      ]
    },
    {
      "cell_type": "code",
      "execution_count": null,
      "metadata": {
        "scrolled": false,
        "id": "JjrnhT_spMHz"
      },
      "outputs": [],
      "source": [
        "# Show Quantum Device Overiew\n",
        "%qiskit_backend_overview"
      ]
    },
    {
      "cell_type": "code",
      "execution_count": null,
      "metadata": {
        "scrolled": false,
        "id": "Iv1YklaIpMHz"
      },
      "outputs": [],
      "source": [
        "# Show individual backend details\n",
        "backend = qiskit.IBMQ.get_backend('ibmqx2')\n",
        "%qiskit_backend_monitor backend"
      ]
    },
    {
      "cell_type": "markdown",
      "metadata": {
        "id": "bxldUzjupMHz"
      },
      "source": [
        "## Running on a Quantum Device\n",
        "In any of the examples below you can simply replace the use of the `backend_sim` variable with `backend` in any calls to `qiskit.execute()` below and it'll run the circuit on a real quantum device instead of in the local simulator. However be aware that because the real devices are shared time you'll likely have to wait some time in the queue before your job executes."
      ]
    },
    {
      "cell_type": "markdown",
      "metadata": {
        "id": "3qiN1CIxpMH0"
      },
      "source": [
        "# The Qubit"
      ]
    },
    {
      "cell_type": "code",
      "execution_count": null,
      "metadata": {
        "id": "5iPE558bpMH0"
      },
      "outputs": [],
      "source": [
        "# Use BasicAer's qasm_simulator\n",
        "backend_sim = qiskit.BasicAer.get_backend('qasm_simulator')"
      ]
    },
    {
      "cell_type": "code",
      "execution_count": null,
      "metadata": {
        "id": "f_CP-kd5pMH0"
      },
      "outputs": [],
      "source": [
        "# Define the Quantum and Classical Registers\n",
        "q = qiskit.QuantumRegister(1)\n",
        "c = qiskit.ClassicalRegister(1)\n",
        "\n",
        "# Build the circuit\n",
        "single_q_measurement = qiskit.QuantumCircuit(q, c)\n",
        "single_q_measurement.measure(q, c);"
      ]
    },
    {
      "cell_type": "code",
      "execution_count": null,
      "metadata": {
        "id": "CzA-OdeNpMH0"
      },
      "outputs": [],
      "source": [
        "qiskit.tools.visualization.plot_bloch_vector([0, 0, 1])"
      ]
    },
    {
      "cell_type": "code",
      "execution_count": null,
      "metadata": {
        "id": "c65LeCYrpMH0"
      },
      "outputs": [],
      "source": [
        "# Execute the circuit\n",
        "job = qiskit.execute(single_q_measurement, backend_sim)\n",
        "result = job.result()\n",
        "# Print the result\n",
        "counts = result.get_counts(single_q_measurement)\n",
        "print(counts)"
      ]
    },
    {
      "cell_type": "code",
      "execution_count": null,
      "metadata": {
        "id": "xlJJCtcnpMH1"
      },
      "outputs": [],
      "source": [
        "qiskit.tools.visualization.plot_histogram(counts)"
      ]
    },
    {
      "cell_type": "markdown",
      "metadata": {
        "id": "B_1sDTFypMH1"
      },
      "source": [
        "# The Quantum Not Gate"
      ]
    },
    {
      "cell_type": "code",
      "execution_count": null,
      "metadata": {
        "id": "VT6OFeF8pMH1"
      },
      "outputs": [],
      "source": [
        "# Create a Quantum Register with 1 qubit (wire).\n",
        "qr = qiskit.QuantumRegister(1)\n",
        "\n",
        "# Create a Classical Register with 1 bit (double wire).\n",
        "cr = qiskit.ClassicalRegister(1)\n",
        "\n",
        "# Create a Quantum Circuit from the quantum and classical registers\n",
        "circ = qiskit.QuantumCircuit(qr, cr)\n",
        "\n",
        "# Place an X gate on the qubit wire. The registers are zero-indexed.\n",
        "circ.x(qr[0])\n",
        "\n",
        "# Measure the qubit into the classical register\n",
        "circ.measure(qr, cr)\n",
        "\n",
        "# Draw the circuit\n",
        "circ.draw(output='mpl')"
      ]
    },
    {
      "cell_type": "code",
      "execution_count": null,
      "metadata": {
        "id": "b_rb04lwpMH1"
      },
      "outputs": [],
      "source": [
        "qiskit.tools.visualization.plot_bloch_vector([0, 0, -1])"
      ]
    },
    {
      "cell_type": "code",
      "execution_count": null,
      "metadata": {
        "id": "hbZPKd28pMH1"
      },
      "outputs": [],
      "source": [
        "# Execute the circuit on the qasm simulator, running it 100 times.\n",
        "job_sim = qiskit.execute(circ, backend_sim, shots=100)\n",
        "\n",
        "# Grab the results from the job.\n",
        "result_sim = job_sim.result()\n",
        "\n",
        "# Print the counts, which are contained in a Python dictionary\n",
        "counts = result_sim.get_counts(circ)\n",
        "print(counts)"
      ]
    },
    {
      "cell_type": "code",
      "execution_count": null,
      "metadata": {
        "id": "Ox9zG0ytpMH1"
      },
      "outputs": [],
      "source": [
        "# Plot the results on a bar chart\n",
        "qiskit.tools.visualization.plot_histogram(counts)"
      ]
    },
    {
      "cell_type": "markdown",
      "metadata": {
        "id": "XqrwuiFspMH2"
      },
      "source": [
        "# Superposition"
      ]
    },
    {
      "cell_type": "code",
      "execution_count": null,
      "metadata": {
        "id": "Ks6gEEgYpMH2"
      },
      "outputs": [],
      "source": [
        "# Create a Quantum Register with 1 qubit (wire).\n",
        "qr = qiskit.QuantumRegister(1)\n",
        "\n",
        "# Create a Classical Register with 1 bit (double wire).\n",
        "cr = qiskit.ClassicalRegister(1)\n",
        "\n",
        "# Create a Quantum Circuit from the quantum and classical registers\n",
        "circ = qiskit.QuantumCircuit(qr, cr)\n",
        "\n",
        "# Place an Hadamard gate on the qubit wire\n",
        "circ.h(qr[0])\n",
        "\n",
        "# Measure the qubit into the classical register\n",
        "circ.measure(qr, cr)\n",
        "\n",
        "# Draw the circuit\n",
        "circ.draw(output='mpl', scale=1.5)"
      ]
    },
    {
      "cell_type": "code",
      "execution_count": null,
      "metadata": {
        "id": "04GwMkDEpMH2"
      },
      "outputs": [],
      "source": [
        "# Execute the circuit on the qasm simulator, running it 100 times.\n",
        "job_sim = qiskit.execute(circ, backend_sim, shots=100)\n",
        "\n",
        "# Grab the results from the job.\n",
        "result_sim = job_sim.result()\n",
        "\n",
        "# Print the counts, which are contained in a Python dictionary\n",
        "counts = result_sim.get_counts(circ)\n",
        "print(counts)"
      ]
    },
    {
      "cell_type": "code",
      "execution_count": null,
      "metadata": {
        "id": "j6OhzFJspMH2"
      },
      "outputs": [],
      "source": [
        "# Plot the results on a bar chart\n",
        "qiskit.tools.visualization.plot_histogram(counts)"
      ]
    },
    {
      "cell_type": "markdown",
      "metadata": {
        "id": "6mbMYRYzpMH2"
      },
      "source": [
        "This demonstrates the first principle fundamental princple of quantum mechanics that provide a good starting point for understanding quantum computation. The priciple of superposition, that a physical system in a definite state can still behave randomly."
      ]
    },
    {
      "cell_type": "markdown",
      "metadata": {
        "id": "Za9GXxxWpMH2"
      },
      "source": [
        "## Applying Hadarmards Twice\n",
        "\n",
        "Now that we've applied a Hadamard gate and put a qubit in superposition, what happens if you apply a hadamard to a qubit already in a the $|0+1\\rangle$ state."
      ]
    },
    {
      "cell_type": "code",
      "execution_count": null,
      "metadata": {
        "id": "chVX__gOpMH2"
      },
      "outputs": [],
      "source": [
        "# Build a circuit with 1 qubit and 1 classical bit\n",
        "qr = qiskit.QuantumRegister(1)\n",
        "cr = qiskit.ClassicalRegister(1)\n",
        "qc = qiskit.QuantumCircuit(qr, cr)\n",
        "# Apply 2 Hadamard gates on the circuit and then measure\n",
        "qc.h(qr[0])\n",
        "qc.h(qr[0])\n",
        "qc.measure(qr, cr)\n",
        "# Draw the circuit\n",
        "qc.draw(output='mpl')"
      ]
    },
    {
      "cell_type": "code",
      "execution_count": null,
      "metadata": {
        "id": "n8woKE7ZpMH2"
      },
      "outputs": [],
      "source": [
        "# Run the circuit and print the output counts\n",
        "result = qiskit.execute(qc, backend_sim, shots=100).result()\n",
        "counts = result.get_counts()\n",
        "print(counts)"
      ]
    },
    {
      "cell_type": "code",
      "execution_count": null,
      "metadata": {
        "id": "f0QiEbM4pMH2"
      },
      "outputs": [],
      "source": [
        "# Print the histogram\n",
        "qiskit.tools.visualization.plot_histogram(counts)"
      ]
    },
    {
      "cell_type": "markdown",
      "metadata": {
        "id": "60C0w_5ypMH3"
      },
      "source": [
        "### Apply Hadamard twice from |$1\\rangle$ basis state"
      ]
    },
    {
      "cell_type": "code",
      "execution_count": null,
      "metadata": {
        "id": "z6ve9cHFpMH3"
      },
      "outputs": [],
      "source": [
        "# Build a circuit with 1 qubit and 1 classical bit\n",
        "qr = qiskit.QuantumRegister(1)\n",
        "cr = qiskit.ClassicalRegister(1)\n",
        "qc = qiskit.QuantumCircuit(qr, cr)\n",
        "# Apply 2 Hadamard gates on the circuit and then measure\n",
        "qc.x(qr[0])\n",
        "qc.h(qr[0])\n",
        "qc.h(qr[0])\n",
        "qc.measure(qr, cr)\n",
        "# Draw the circuit\n",
        "qc.draw(output='mpl')"
      ]
    },
    {
      "cell_type": "code",
      "execution_count": null,
      "metadata": {
        "id": "gj18zoHEpMH3"
      },
      "outputs": [],
      "source": [
        "# Run the circuit and print the output counts\n",
        "result = qiskit.execute(qc, backend_sim, shots=100).result()\n",
        "counts = result.get_counts()\n",
        "print(counts)"
      ]
    },
    {
      "cell_type": "code",
      "execution_count": null,
      "metadata": {
        "id": "4EBA-KiypMH3"
      },
      "outputs": [],
      "source": [
        "# Print the histogram\n",
        "qiskit.tools.visualization.plot_histogram(counts)"
      ]
    },
    {
      "cell_type": "markdown",
      "metadata": {
        "id": "5VfgF0qIpMH3"
      },
      "source": [
        "# Other Quantum Gates\n",
        "\n",
        "The list of standard available logic gates are documented here:\n",
        "\n",
        "https://github.com/Qiskit/qiskit-tutorials/blob/master/qiskit/terra/summary_of_quantum_operations.ipynb\n",
        "\n",
        "However, that guide typically only explains the operation performed by using it's unitary matrix. If you want to visualize the output state from using a quantum gate on the bloch sphere you can use the statevector simulator to do this:"
      ]
    },
    {
      "cell_type": "code",
      "execution_count": null,
      "metadata": {
        "id": "3bU9sif4pMH3"
      },
      "outputs": [],
      "source": [
        "# Get the statevector simulator to inspect the quantum state\n",
        "backend_sv_sim = qiskit.BasicAer.get_backend('statevector_simulator')\n",
        "qr = qiskit.QuantumRegister(1)\n",
        "cr = qiskit.ClassicalRegister(1)\n",
        "circ = qiskit.QuantumCircuit(qr, cr)\n",
        "circ.y(qr)\n",
        "result = qiskit.execute(circ, backend_sv_sim).result()\n",
        "qiskit.tools.visualization.plot_bloch_multivector(result.get_statevector())"
      ]
    },
    {
      "cell_type": "markdown",
      "metadata": {
        "id": "Def93ay0pMH3"
      },
      "source": [
        "The above shows the end state after applying the Pauli Y gate (which like the Pauli X/Quantum Not gate) can be thought of a 180 degree rotation around the Y axis. So when starting from the |$0\\rangle$ basis state the result is the |$1\\rangle$ basis state.\n",
        "\n",
        "However, many gates rotate the phase. To visualize any change in phase you'll want to put the qubit in superposition with a hadamard gate first. For example:"
      ]
    },
    {
      "cell_type": "code",
      "execution_count": null,
      "metadata": {
        "id": "pUfld2WRpMH3"
      },
      "outputs": [],
      "source": [
        "qr = qiskit.QuantumRegister(1)\n",
        "cr = qiskit.ClassicalRegister(1)\n",
        "circ = qiskit.QuantumCircuit(qr, cr)\n",
        "circ.h(qr)\n",
        "circ.sdg(qr)\n",
        "result = qiskit.execute(circ, backend_sv_sim).result()\n",
        "\n",
        "qiskit.tools.visualization.plot_bloch_multivector(result.get_statevector())"
      ]
    },
    {
      "cell_type": "markdown",
      "metadata": {
        "id": "9gsQvj6gpMH7"
      },
      "source": [
        "This example shows the output of the $S^{\\dagger}$ (or, conjugate of $\\sqrt{Z}$ phase) gate on the bloch sphere for a qubit in superposition from a Hadamard gate. Since it is a phase gate it has no noticeable effect on a qubit in the |$0\\rangle$ basis state:"
      ]
    },
    {
      "cell_type": "code",
      "execution_count": null,
      "metadata": {
        "id": "2be7-r9ppMH7"
      },
      "outputs": [],
      "source": [
        "qr = qiskit.QuantumRegister(1)\n",
        "cr = qiskit.ClassicalRegister(1)\n",
        "circ = qiskit.QuantumCircuit(qr, cr)\n",
        "circ.sdg(qr)\n",
        "result = qiskit.execute(circ, backend_sv_sim).result()\n",
        "\n",
        "qiskit.tools.visualization.plot_bloch_multivector(result.get_statevector())"
      ]
    },
    {
      "cell_type": "markdown",
      "metadata": {
        "id": "XQ3H-pfOpMH7"
      },
      "source": [
        "# Multi Qubit Circuits and Gates"
      ]
    },
    {
      "cell_type": "code",
      "execution_count": null,
      "metadata": {
        "id": "iXnB6qAjpMH7"
      },
      "outputs": [],
      "source": [
        "# Create a Quantum Register with 3 qubits\n",
        "qr = qiskit.QuantumRegister(3)\n",
        "\n",
        "# Create a Quantum Circuit from the quantum register. Because we're going to use\n",
        "# the statevector_simulator, we won't measure the circuit or need classical registers.\n",
        "circ = qiskit.QuantumCircuit(qr)\n",
        "\n",
        "# Place an X gate on the 2nd and 3rd wires. The topmost wire is index 0.\n",
        "circ.x(qr[1])\n",
        "circ.x(qr[2])\n",
        "\n",
        "# Draw the circuit\n",
        "circ.draw(output='mpl')"
      ]
    },
    {
      "cell_type": "code",
      "execution_count": null,
      "metadata": {
        "id": "Qw-KM5mDpMH7"
      },
      "outputs": [],
      "source": [
        "# Execute the circuit on the state vector simulator\n",
        "job_sim = qiskit.execute(circ, backend_sv_sim)\n",
        "\n",
        "# Grab the results from the job.\n",
        "result_sim = job_sim.result()\n",
        "\n",
        "# Obtain the state vector for the quantum circuit\n",
        "quantum_state = result_sim.get_statevector(circ, decimals=3)\n",
        "\n",
        "# Output the quantum state vector\n",
        "print(quantum_state)"
      ]
    },
    {
      "cell_type": "code",
      "execution_count": null,
      "metadata": {
        "id": "zWk23M6RpMH8"
      },
      "outputs": [],
      "source": [
        "qiskit.tools.visualization.plot_state_city(quantum_state)"
      ]
    },
    {
      "cell_type": "code",
      "execution_count": null,
      "metadata": {
        "id": "jsRWugHrpMH8"
      },
      "outputs": [],
      "source": [
        "qiskit.tools.visualization.plot_bloch_multivector(quantum_state)"
      ]
    },
    {
      "cell_type": "code",
      "execution_count": null,
      "metadata": {
        "id": "F2zf5P73pMH8"
      },
      "outputs": [],
      "source": [
        "# Create a Quantum Register with 3 qubits\n",
        "qr = qiskit.QuantumRegister(2)\n",
        "cr = qiskit.ClassicalRegister(2)\n",
        "circ = qiskit.QuantumCircuit(qr)\n",
        "# Apply a CNOT gate with qr[0] as the control and qr[1] as the target\n",
        "circ.cx(qr[0], qr[1])\n",
        "\n",
        "meas = qiskit.QuantumCircuit(qr, cr)\n",
        "meas.measure(qr, cr)\n",
        "\n",
        "# Draw the circuit\n",
        "circ.draw(output='mpl')"
      ]
    },
    {
      "cell_type": "code",
      "execution_count": null,
      "metadata": {
        "id": "mchvKGCHpMH8"
      },
      "outputs": [],
      "source": [
        "# Execute the circuit on the state vector simulator\n",
        "job_sim = qiskit.execute(circ, backend_sv_sim)\n",
        "\n",
        "# Grab the results from the job.\n",
        "result_sim = job_sim.result()\n",
        "\n",
        "# Obtain the state vector for the quantum circuit\n",
        "quantum_state = result_sim.get_statevector(circ, decimals=3)\n",
        "\n",
        "# Output the quantum state vector\n",
        "print(quantum_state)"
      ]
    },
    {
      "cell_type": "code",
      "execution_count": null,
      "metadata": {
        "id": "EBqQ05FxpMH8"
      },
      "outputs": [],
      "source": [
        "qiskit.tools.visualization.plot_state_city(quantum_state)"
      ]
    },
    {
      "cell_type": "code",
      "execution_count": null,
      "metadata": {
        "id": "mAB-K8DjpMH8"
      },
      "outputs": [],
      "source": [
        "# Execute the circuit on the state vector simulator\n",
        "job_sim = qiskit.execute(circ + meas, backend_sim)\n",
        "\n",
        "# Grab the results from the job.\n",
        "result = job_sim.result()\n",
        "\n",
        "counts = result.get_counts()\n",
        "# Output the quantum state vector\n",
        "print(counts)"
      ]
    },
    {
      "cell_type": "code",
      "execution_count": null,
      "metadata": {
        "id": "PBhw9d7zpMH8"
      },
      "outputs": [],
      "source": [
        "qiskit.tools.visualization.plot_histogram(counts)"
      ]
    },
    {
      "cell_type": "code",
      "execution_count": null,
      "metadata": {
        "id": "oRjhd8UDpMH9"
      },
      "outputs": [],
      "source": [
        "circ = qiskit.QuantumCircuit(qr)\n",
        "# Apply an X gate on qr[0] before the CNOT\n",
        "circ.x(qr[0])\n",
        "\n",
        "# Apply a CNOT gate with qr[0] as the control and qr[1] as the target\n",
        "circ.cx(qr[0], qr[1])\n",
        "\n",
        "# Draw the circuit\n",
        "circ.draw(output='mpl')"
      ]
    },
    {
      "cell_type": "code",
      "execution_count": null,
      "metadata": {
        "id": "aTDwXNHXpMH9"
      },
      "outputs": [],
      "source": [
        "# Execute the circuit on the state vector simulator\n",
        "job_sim = qiskit.execute(circ, backend_sv_sim)\n",
        "\n",
        "# Grab the results from the job.\n",
        "result_sim = job_sim.result()\n",
        "\n",
        "# Obtain the state vector for the quantum circuit\n",
        "quantum_state = result_sim.get_statevector(circ, decimals=3)\n",
        "\n",
        "# Output the quantum state vector\n",
        "print(quantum_state)"
      ]
    },
    {
      "cell_type": "code",
      "execution_count": null,
      "metadata": {
        "id": "rk5RGXidpMH9"
      },
      "outputs": [],
      "source": [
        "qiskit.tools.visualization.plot_state_city(quantum_state)"
      ]
    },
    {
      "cell_type": "code",
      "execution_count": null,
      "metadata": {
        "id": "7KOASo5ypMH9"
      },
      "outputs": [],
      "source": [
        "# Execute the circuit on the state vector simulator\n",
        "job_sim = qiskit.execute(circ + meas, backend_sim)\n",
        "\n",
        "# Grab the results from the job.\n",
        "result = job_sim.result()\n",
        "\n",
        "counts = result.get_counts()\n",
        "# Output the quantum state vector\n",
        "print(counts)"
      ]
    },
    {
      "cell_type": "code",
      "execution_count": null,
      "metadata": {
        "id": "wkPV2bXFpMH9"
      },
      "outputs": [],
      "source": [
        "qiskit.tools.visualization.plot_histogram(counts)"
      ]
    },
    {
      "cell_type": "markdown",
      "metadata": {
        "id": "EXV0favGpMH9"
      },
      "source": [
        "These are all still classical operations and states, just with multiple qubits. Lets look at what happens when we start using CNOT outside of a basis state."
      ]
    },
    {
      "cell_type": "markdown",
      "metadata": {
        "id": "9BM-caHDpMH9"
      },
      "source": [
        "# Entanglement"
      ]
    },
    {
      "cell_type": "code",
      "execution_count": null,
      "metadata": {
        "id": "ptaCoEK3pMH-"
      },
      "outputs": [],
      "source": [
        "# Creating registers\n",
        "q2 = qiskit.QuantumRegister(2)\n",
        "c1 = qiskit.ClassicalRegister(1)\n",
        "c2 = qiskit.ClassicalRegister(2)\n",
        "\n",
        "# quantum circuit to make an entangled bell state\n",
        "bell = qiskit.QuantumCircuit(q2)\n",
        "bell.h(q2[0])\n",
        "bell.cx(q2[0], q2[1])\n",
        "\n",
        "# quantum circuit to measure q0 in the standard basis\n",
        "measureIZ = qiskit.QuantumCircuit(q2, c1)\n",
        "measureIZ.measure(q2[0], c1[0])\n",
        "bellIZ = bell + measureIZ\n",
        "\n",
        "# quantum circuit to measure q0 in the superposition basis\n",
        "measureIX = qiskit.QuantumCircuit(q2, c1)\n",
        "measureIX.h(q2[0])\n",
        "measureIX.measure(q2[0], c1[0])\n",
        "bellIX = bell + measureIX\n",
        "\n",
        "# quantum circuit to measure q1 in the standard basis\n",
        "measureZI = qiskit.QuantumCircuit(q2, c1)\n",
        "measureZI.measure(q2[1], c1[0])\n",
        "bellZI = bell + measureZI\n",
        "\n",
        "# quantum circuit to measure q1 in the superposition basis\n",
        "measureXI = qiskit.QuantumCircuit(q2, c1)\n",
        "measureXI.h(q2[1])\n",
        "measureXI.measure(q2[1], c1[0])\n",
        "bellXI = bell + measureXI\n",
        "\n",
        "# quantum circuit to measure q in the standard basis\n",
        "measureZZ = qiskit.QuantumCircuit(q2, c2)\n",
        "measureZZ.measure(q2[0], c2[0])\n",
        "measureZZ.measure(q2[1], c2[1])\n",
        "bellZZ = bell + measureZZ\n",
        "\n",
        "# quantum circuit to measure q in the superposition basis\n",
        "measureXX = qiskit.QuantumCircuit(q2, c2)\n",
        "measureXX.h(q2[0])\n",
        "measureXX.h(q2[1])\n",
        "measureXX.measure(q2[0], c2[0])\n",
        "measureXX.measure(q2[1], c2[1])\n",
        "bellXX = bell + measureXX"
      ]
    },
    {
      "cell_type": "code",
      "execution_count": null,
      "metadata": {
        "id": "iEUmARFQpMH-"
      },
      "outputs": [],
      "source": [
        "bellIZ.draw(output='mpl')"
      ]
    },
    {
      "cell_type": "code",
      "execution_count": null,
      "metadata": {
        "id": "6sGLBS2vpMH-"
      },
      "outputs": [],
      "source": [
        "bellIX.draw(output='mpl')"
      ]
    },
    {
      "cell_type": "code",
      "execution_count": null,
      "metadata": {
        "id": "mHqqkwIypMH-"
      },
      "outputs": [],
      "source": [
        "bellZI.draw(output='mpl')"
      ]
    },
    {
      "cell_type": "code",
      "execution_count": null,
      "metadata": {
        "id": "i_ZtyAF9pMH-"
      },
      "outputs": [],
      "source": [
        "bellXI.draw(output='mpl')"
      ]
    },
    {
      "cell_type": "code",
      "execution_count": null,
      "metadata": {
        "id": "tievmlJ8pMH-"
      },
      "outputs": [],
      "source": [
        "bellZZ.draw(output='mpl')"
      ]
    },
    {
      "cell_type": "code",
      "execution_count": null,
      "metadata": {
        "id": "Df-4w4SNpMH_"
      },
      "outputs": [],
      "source": [
        "bellXX.draw(output='mpl')"
      ]
    },
    {
      "cell_type": "code",
      "execution_count": null,
      "metadata": {
        "id": "wOsbRmEupMH_"
      },
      "outputs": [],
      "source": [
        "circuits = [bellIZ,bellIX,bellZI,bellXI,bellZZ,bellXX]\n",
        "job = qiskit.execute(circuits, backend_sim)\n",
        "result = job.result()\n",
        "\n",
        "result_sv = qiskit.execute(bell, backend_sv_sim).result()\n",
        "\n",
        "qiskit.tools.visualization.plot_histogram(result.get_counts(bellIZ))"
      ]
    },
    {
      "cell_type": "code",
      "execution_count": null,
      "metadata": {
        "id": "CrCpLFn5pMH_"
      },
      "outputs": [],
      "source": [
        "result.get_counts(bellIZ)"
      ]
    },
    {
      "cell_type": "code",
      "execution_count": null,
      "metadata": {
        "id": "HApdtIvjpMH_"
      },
      "outputs": [],
      "source": [
        "qiskit.tools.visualization.plot_histogram(result.get_counts(bellIX))"
      ]
    },
    {
      "cell_type": "code",
      "execution_count": null,
      "metadata": {
        "id": "LXG80A16pMH_"
      },
      "outputs": [],
      "source": [
        "qiskit.tools.visualization.plot_histogram(result.get_counts(bellZI))"
      ]
    },
    {
      "cell_type": "code",
      "execution_count": null,
      "metadata": {
        "id": "bMRFrmYOpMH_"
      },
      "outputs": [],
      "source": [
        "qiskit.tools.visualization.plot_histogram(result.get_counts(bellXI))"
      ]
    },
    {
      "cell_type": "code",
      "execution_count": null,
      "metadata": {
        "id": "JofeKAHKpMH_"
      },
      "outputs": [],
      "source": [
        "qiskit.tools.visualization.plot_histogram(result.get_counts(bellZZ))"
      ]
    },
    {
      "cell_type": "code",
      "execution_count": null,
      "metadata": {
        "id": "kPGE5PPvpMIA"
      },
      "outputs": [],
      "source": [
        "qiskit.tools.visualization.plot_histogram(result.get_counts(bellXX))"
      ]
    },
    {
      "cell_type": "code",
      "execution_count": null,
      "metadata": {
        "id": "5fq9F3zbpMIA"
      },
      "outputs": [],
      "source": [
        "qiskit.tools.visualization.plot_state_city(result_sv.get_statevector())"
      ]
    },
    {
      "cell_type": "markdown",
      "metadata": {
        "id": "1g0plVtxpMIA"
      },
      "source": [
        "## Mixed State vs Entanglement"
      ]
    },
    {
      "cell_type": "code",
      "execution_count": null,
      "metadata": {
        "id": "ZZhWqUjxpMIA"
      },
      "outputs": [],
      "source": [
        "# quantum circuit to make a mixed state\n",
        "mixed1 = qiskit.QuantumCircuit(q2, c2)\n",
        "mixed2 = qiskit.QuantumCircuit(q2, c2)\n",
        "mixed2.x(q2)\n",
        "mixed1.measure(q2[0], c2[0])\n",
        "mixed1.measure(q2[1], c2[1])\n",
        "mixed2.measure(q2[0], c2[0])\n",
        "mixed2.measure(q2[1], c2[1])\n",
        "\n",
        "mixed1.draw(output='mpl')"
      ]
    },
    {
      "cell_type": "code",
      "execution_count": null,
      "metadata": {
        "id": "ZMNPGPhlpMIA"
      },
      "outputs": [],
      "source": [
        "mixed2.draw(output='mpl')"
      ]
    },
    {
      "cell_type": "code",
      "execution_count": null,
      "metadata": {
        "id": "458s5qdepMIA"
      },
      "outputs": [],
      "source": [
        "mixed_state = [mixed1,mixed2]\n",
        "job = qiskit.execute(mixed_state, backend_sim)\n",
        "result = job.result()\n",
        "\n",
        "counts1 = result.get_counts(mixed_state[0])\n",
        "counts2 = result.get_counts(mixed_state[1])\n",
        "\n",
        "import collections\n",
        "ground = collections.Counter(counts1)\n",
        "excited = collections.Counter(counts2)\n",
        "qiskit.tools.visualization.plot_histogram(ground + excited)"
      ]
    },
    {
      "cell_type": "markdown",
      "metadata": {
        "id": "VqAxfuRrpMIB"
      },
      "source": [
        "We do see the same kind of correlation indeed as we observed in the \"bell_measureZZ\" circuit. But we know this is not an entangled state! All we have done is leave the qubits in their ground state for some of the shots and flip both qubits for some of the shots. This is called a mixed state and it is a classical state. Now, would we observe a similar outcome if we measured this mixed state in the superposition basis?"
      ]
    },
    {
      "cell_type": "code",
      "execution_count": null,
      "metadata": {
        "id": "_kyiIZlMpMIB"
      },
      "outputs": [],
      "source": [
        "# quantum circuit to make a mixed state\n",
        "mixed3 = qiskit.QuantumCircuit(q2, c2)\n",
        "mixed3.h(q2)\n",
        "mixed3.measure(q2[0], c2[0])\n",
        "mixed3.measure(q2[1], c2[1])\n",
        "mixed4 = qiskit.QuantumCircuit(q2, c2)\n",
        "mixed4.x(q2)\n",
        "mixed4.h(q2)\n",
        "mixed4.measure(q2[0], c2[0])\n",
        "mixed4.measure(q2[1], c2[1])\n",
        "mixed3.draw(output='mpl')"
      ]
    },
    {
      "cell_type": "code",
      "execution_count": null,
      "metadata": {
        "id": "cnCt2v2gpMIB"
      },
      "outputs": [],
      "source": [
        "mixed4.draw(output='mpl')"
      ]
    },
    {
      "cell_type": "code",
      "execution_count": null,
      "metadata": {
        "id": "uGiVCnyPpMIB"
      },
      "outputs": [],
      "source": [
        "mixed_state = [mixed3, mixed4]\n",
        "job = qiskit.execute(mixed_state, backend_sim)\n",
        "result = job.result()\n",
        "\n",
        "counts1 = result.get_counts(mixed_state[0])\n",
        "counts2 = result.get_counts(mixed_state[1])\n",
        "\n",
        "import collections\n",
        "ground = collections.Counter(counts1)\n",
        "excited = collections.Counter(counts2)\n",
        "qiskit.tools.visualization.plot_histogram(ground + excited)"
      ]
    },
    {
      "cell_type": "markdown",
      "metadata": {
        "id": "P4OMVjqmpMIB"
      },
      "source": [
        "You can see here that when we measure the mixed state in the superposition basis that the results are not correlated, which is different from our previous entangled example \"bell_measureXX\". This shows that a mixed state is not actually entangled."
      ]
    },
    {
      "cell_type": "markdown",
      "metadata": {
        "id": "s4UbOQ42pMIB"
      },
      "source": [
        "# More Information\n",
        "\n",
        "This is just a starting point for learning about quantum computation. There are a several additional resources where to go for more information on this topic. This workshop was heavily based off of the community notebooks in the [qiskit-tutorials repository](https://github.com/Qiskit/qiskit-tutorials) these continue on and explore these topics in more detail:\n",
        "\n",
        "1. **Amplitude and Phase**: https://github.com/Qiskit/qiskit-tutorials/blob/master/community/terra/qis_intro/amplitude_and_phase.ipynb\n",
        "2. **Testing Entanglement**: https://github.com/Qiskit/qiskit-tutorials/blob/master/community/terra/qis_intro/entanglement_testing.ipynb\n",
        "3. **Quantum Teleportation and Superdense Coding**: https://github.com/Qiskit/qiskit-tutorials/blob/master/community/terra/qis_intro/teleportation_superdensecoding.ipynb\n",
        "\n",
        "The qiskit-tutorials repository also contains many other Jupyter notebooks covering a variety of topics. One thing that can be fun is applying these principles to make games: https://github.com/Qiskit/qiskit-tutorials/tree/master/community/games contains several games on Quantum computers.\n",
        "\n",
        "If you're interested in seeing applications and algorithms that are using quantum computation take a look at the [Qiskit Aqua](https://qiskit.org/aqua) which provides a Python library for quantum alogrithms.\n",
        "\n",
        "A paper outlining everything talked about here in more detail along with basic alogrithms building off of these concepts: https://arxiv.org/abs/1903.04359"
      ]
    }
  ],
  "metadata": {
    "kernelspec": {
      "display_name": "Python 3",
      "language": "python",
      "name": "python3"
    },
    "language_info": {
      "codemirror_mode": {
        "name": "ipython",
        "version": 3
      },
      "file_extension": ".py",
      "mimetype": "text/x-python",
      "name": "python",
      "nbconvert_exporter": "python",
      "pygments_lexer": "ipython3",
      "version": "3.7.2"
    },
    "colab": {
      "provenance": []
    }
  },
  "nbformat": 4,
  "nbformat_minor": 0
}